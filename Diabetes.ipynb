{
 "cells": [
  {
   "cell_type": "code",
   "execution_count": 10,
   "id": "05e41561",
   "metadata": {},
   "outputs": [],
   "source": [
    "import pandas as pd\n",
    "from sklearn.linear_model import LogisticRegression\n",
    "from sklearn.model_selection import train_test_split\n",
    "from sklearn.preprocessing import LabelEncoder\n",
    "from sklearn.metrics import accuracy_score\n",
    "import numpy as np\n",
    "import seaborn as sns\n",
    "import matplotlib.pyplot as plt\n",
    "%matplotlib inline\n",
    "from sklearn.metrics import classification_report, confusion_matrix\n",
    "encode= LabelEncoder()"
   ]
  },
  {
   "cell_type": "code",
   "execution_count": null,
   "id": "46f71a2f",
   "metadata": {},
   "outputs": [],
   "source": [
    "data= pd.DataFrame(pd.read_csv(\"..\\\\Diabetes project\\\\dataset\\\\diabetes.csv\", delimiter=\",\"))\n",
    "dummy=pd.get_dummies(data[['Gender', 'Polyuria', 'Polydipsia', 'sudden weight loss',\n",
    "       'weakness', 'Polyphagia', 'Genital thrush', 'visual blurring',\n",
    "       'Itching', 'Irritability', 'delayed healing', 'partial paresis',\n",
    "       'muscle stiffness', 'Alopecia', 'Obesity']],drop_first=True)\n",
    "dummy['Result']=encode.fit_transform(data['result'])\n",
    "dummy=pd.concat([data['Age'],dummy], axis=1)"
   ]
  },
  {
   "cell_type": "code",
   "execution_count": 3,
   "id": "a3d151a7",
   "metadata": {},
   "outputs": [],
   "source": [
    "train, test= train_test_split(dummy, test_size= 0.1,random_state=0)\n",
    "\n",
    "train_x= train.drop(columns=['Result'], axis=1)\n",
    "train_y= train.Result\n",
    "test_x= test.drop(columns=['Result'], axis=1)\n",
    "test_y= test.Result\n",
    "lnr= LogisticRegression()\n",
    "lnr.fit(train_x,train_y)\n",
    "predict=lnr.predict(test_x)"
   ]
  },
  {
   "cell_type": "code",
   "execution_count": 4,
   "id": "af997976",
   "metadata": {},
   "outputs": [
    {
     "name": "stdout",
     "output_type": "stream",
     "text": [
      "classification report: \n",
      "               precision    recall  f1-score   support\n",
      "\n",
      "           0       0.94      0.88      0.91        17\n",
      "           1       0.94      0.97      0.96        35\n",
      "\n",
      "    accuracy                           0.94        52\n",
      "   macro avg       0.94      0.93      0.93        52\n",
      "weighted avg       0.94      0.94      0.94        52\n",
      "\n",
      "confusion matrix: \n",
      " [[15  2]\n",
      " [ 1 34]]\n"
     ]
    }
   ],
   "source": [
    "print(\"classification report: \\n\",classification_report(test_y, predict))\n",
    "print(\"confusion matrix: \\n\", confusion_matrix(test_y,predict))"
   ]
  },
  {
   "cell_type": "code",
   "execution_count": 5,
   "id": "e9d0d219",
   "metadata": {},
   "outputs": [
    {
     "name": "stdout",
     "output_type": "stream",
     "text": [
      "Please provide information below: \n",
      "Age: 45\n",
      "Gender (male/female/other): female\n",
      "Answer below in Yes/No\n",
      "Signs of Polyuria?: yes\n",
      "Signs of Polydipsia?: yes\n",
      "Signs of sudden weight loss?: YES\n",
      "weakness?: YES\n",
      "Signs of Polyphagia?: YES\n",
      "Any Genital thrush?: YES\n",
      "visual blurring?: YES\n",
      "Any itching?: YES\n",
      "Any signs of Irritability?: YES\n",
      " Delayed Healing?: yes\n",
      "Sign of partial paresis?: yes\n",
      "Any muscle stiffness?: yes\n",
      "Alopecia?: yes\n",
      "Obesity?: no\n"
     ]
    }
   ],
   "source": [
    "print(\"Please provide information below: \")\n",
    "Age= input(\"Age: \")\n",
    "Gender= input(\"Gender (male/female/other): \")\n",
    "print(\"Answer below in Yes/No\")\n",
    "Polyu=input(\"Signs of Polyuria?: \")\n",
    "Polyd= input(\"Signs of Polydipsia?: \")\n",
    "SWL= input(\"Signs of sudden weight loss?: \")\n",
    "W= input(\"weakness?: \")\n",
    "P= input(\"Signs of Polyphagia?: \")\n",
    "GT= input(\"Any Genital thrush?: \")\n",
    "VB= input(\"visual blurring?: \")\n",
    "I= input(\"Any itching?: \")\n",
    "Irr= input(\"Any signs of Irritability?: \")\n",
    "DH= input(\" Delayed Healing?: \")\n",
    "PP= input(\"Sign of partial paresis?: \")\n",
    "MS= input(\"Any muscle stiffness?: \")\n",
    "A= input(\"Alopecia?: \")\n",
    "O= input(\"Obesity?: \")\n"
   ]
  },
  {
   "cell_type": "code",
   "execution_count": 8,
   "id": "ad095899",
   "metadata": {},
   "outputs": [],
   "source": [
    "input_data=pd.DataFrame([[Age,Gender,Polyu,Polyd,SWL ,W ,P ,GT ,VB,I ,Irr ,DH ,PP ,MS ,A,O]],columns=['Age','Gender_Male', 'Polyuria_Yes', 'Polydipsia_Yes',\n",
    "       'sudden weight loss_Yes', 'weakness_Yes', 'Polyphagia_Yes',\n",
    "       'Genital thrush_Yes', 'visual blurring_Yes', 'Itching_Yes',\n",
    "       'Irritability_Yes', 'delayed healing_Yes', 'partial paresis_Yes',\n",
    "       'muscle stiffness_Yes', 'Alopecia_Yes', 'Obesity_Yes'])\n",
    "input_data=input_data.applymap(lambda s:s.lower() if type(s) == str else s)\n",
    "input_data=input_data.replace(('male','female','no','yes'),(1,0,0,1))\n",
    "input_data.astype=input_data.astype(float)"
   ]
  },
  {
   "cell_type": "code",
   "execution_count": 9,
   "id": "1f7505ae",
   "metadata": {},
   "outputs": [
    {
     "name": "stdout",
     "output_type": "stream",
     "text": [
      "Probable test result: Diabetes- Postive\n"
     ]
    }
   ],
   "source": [
    "predict1=lnr.predict(input_data)[0]\n",
    "if predict1==1:\n",
    "    print(\"Probable test result: Diabetes- Postive\")\n",
    "else:\n",
    "    print(\"Probable test result: Diabetes- Negative\")"
   ]
  }
 ],
 "metadata": {
  "kernelspec": {
   "display_name": "Python 3 (ipykernel)",
   "language": "python",
   "name": "python3"
  },
  "language_info": {
   "codemirror_mode": {
    "name": "ipython",
    "version": 3
   },
   "file_extension": ".py",
   "mimetype": "text/x-python",
   "name": "python",
   "nbconvert_exporter": "python",
   "pygments_lexer": "ipython3",
   "version": "3.10.0"
  }
 },
 "nbformat": 4,
 "nbformat_minor": 5
}
