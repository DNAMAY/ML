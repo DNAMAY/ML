{
 "cells": [
  {
   "cell_type": "code",
   "execution_count": 1,
   "id": "3e3c8e31",
   "metadata": {},
   "outputs": [],
   "source": [
    "import pandas as pd\n",
    "from sklearn.model_selection import train_test_split\n",
    "from sklearn.preprocessing import LabelEncoder\n",
    "from sklearn.metrics import accuracy_score\n",
    "import numpy as np\n",
    "import seaborn as sns\n",
    "import matplotlib.pyplot as plt\n",
    "%matplotlib inline\n",
    "from sklearn import neighbors\n"
   ]
  },
  {
   "cell_type": "code",
   "execution_count": 2,
   "id": "8732c105",
   "metadata": {},
   "outputs": [],
   "source": [
    "#inputdata =['Age', 'Gender', 'Polyuria', 'Polydipsia' ,'sudden_weight_loss', 'weakness', 'Polyphagia', 'Genital_thrush', 'visual_blurring', 'Itching', 'Irritability', 'delayed_healing', 'partial paresis', 'muscle stiffness', 'Alopecia', 'Obesity']\n",
    "#inputdata=np.array(inputdata).reshape((1, 16))\n",
    "#inputdata = pd.DataFrame(data = inputdata, index = [\"0\"], columns = [\"Age\", \"Gender\", \"Polyuria\", \"Polydipsia\" ,\"sudden weight loss\", \"weakness\", \"Polyphagia\", \"Genital thrush\", \"visual blurring\", \"Itching\",\"Irritability\",\"delayed healing\",\"partial paresis\",\"muscle stiffness\",\"Alopecia\",\"Obesity\"])"
   ]
  },
  {
   "cell_type": "code",
   "execution_count": 3,
   "id": "a3508ba5",
   "metadata": {},
   "outputs": [
    {
     "data": {
      "text/html": [
       "<div>\n",
       "<style scoped>\n",
       "    .dataframe tbody tr th:only-of-type {\n",
       "        vertical-align: middle;\n",
       "    }\n",
       "\n",
       "    .dataframe tbody tr th {\n",
       "        vertical-align: top;\n",
       "    }\n",
       "\n",
       "    .dataframe thead th {\n",
       "        text-align: right;\n",
       "    }\n",
       "</style>\n",
       "<table border=\"1\" class=\"dataframe\">\n",
       "  <thead>\n",
       "    <tr style=\"text-align: right;\">\n",
       "      <th></th>\n",
       "      <th>Age</th>\n",
       "      <th>Gender</th>\n",
       "      <th>Polyuria</th>\n",
       "      <th>Polydipsia</th>\n",
       "      <th>sudden weight loss</th>\n",
       "      <th>weakness</th>\n",
       "      <th>Polyphagia</th>\n",
       "      <th>Genital thrush</th>\n",
       "      <th>visual blurring</th>\n",
       "      <th>Itching</th>\n",
       "      <th>Irritability</th>\n",
       "      <th>delayed healing</th>\n",
       "      <th>partial paresis</th>\n",
       "      <th>muscle stiffness</th>\n",
       "      <th>Alopecia</th>\n",
       "      <th>Obesity</th>\n",
       "      <th>result</th>\n",
       "    </tr>\n",
       "  </thead>\n",
       "  <tbody>\n",
       "    <tr>\n",
       "      <th>133</th>\n",
       "      <td>16</td>\n",
       "      <td>Male</td>\n",
       "      <td>Yes</td>\n",
       "      <td>No</td>\n",
       "      <td>Yes</td>\n",
       "      <td>No</td>\n",
       "      <td>Yes</td>\n",
       "      <td>No</td>\n",
       "      <td>No</td>\n",
       "      <td>No</td>\n",
       "      <td>No</td>\n",
       "      <td>No</td>\n",
       "      <td>No</td>\n",
       "      <td>No</td>\n",
       "      <td>No</td>\n",
       "      <td>No</td>\n",
       "      <td>Positive</td>\n",
       "    </tr>\n",
       "  </tbody>\n",
       "</table>\n",
       "</div>"
      ],
      "text/plain": [
       "     Age Gender Polyuria Polydipsia sudden weight loss weakness Polyphagia  \\\n",
       "133   16   Male      Yes         No                Yes       No        Yes   \n",
       "\n",
       "    Genital thrush visual blurring Itching Irritability delayed healing  \\\n",
       "133             No              No      No           No              No   \n",
       "\n",
       "    partial paresis muscle stiffness Alopecia Obesity    result  \n",
       "133              No               No       No      No  Positive  "
      ]
     },
     "execution_count": 3,
     "metadata": {},
     "output_type": "execute_result"
    }
   ],
   "source": [
    "data= pd.DataFrame(pd.read_csv('C:/Users/priya/OneDrive/Desktop/Priyanka/Study/Python/Diabetes project/dataset/original/diabetes.csv', delimiter=\",\"))\n",
    "data.loc[data.Age<20]"
   ]
  },
  {
   "cell_type": "code",
   "execution_count": 4,
   "id": "80990d28",
   "metadata": {},
   "outputs": [
    {
     "data": {
      "text/html": [
       "<div>\n",
       "<style scoped>\n",
       "    .dataframe tbody tr th:only-of-type {\n",
       "        vertical-align: middle;\n",
       "    }\n",
       "\n",
       "    .dataframe tbody tr th {\n",
       "        vertical-align: top;\n",
       "    }\n",
       "\n",
       "    .dataframe thead th {\n",
       "        text-align: right;\n",
       "    }\n",
       "</style>\n",
       "<table border=\"1\" class=\"dataframe\">\n",
       "  <thead>\n",
       "    <tr style=\"text-align: right;\">\n",
       "      <th></th>\n",
       "      <th>Age</th>\n",
       "      <th>Gender_Male</th>\n",
       "      <th>Polyuria_Yes</th>\n",
       "      <th>Polydipsia_Yes</th>\n",
       "      <th>sudden weight loss_Yes</th>\n",
       "      <th>weakness_Yes</th>\n",
       "      <th>Polyphagia_Yes</th>\n",
       "      <th>Genital thrush_Yes</th>\n",
       "      <th>visual blurring_Yes</th>\n",
       "      <th>Itching_Yes</th>\n",
       "      <th>Irritability_Yes</th>\n",
       "      <th>delayed healing_Yes</th>\n",
       "      <th>partial paresis_Yes</th>\n",
       "      <th>muscle stiffness_Yes</th>\n",
       "      <th>Alopecia_Yes</th>\n",
       "      <th>Obesity_Yes</th>\n",
       "      <th>result</th>\n",
       "    </tr>\n",
       "  </thead>\n",
       "  <tbody>\n",
       "    <tr>\n",
       "      <th>0</th>\n",
       "      <td>40</td>\n",
       "      <td>1</td>\n",
       "      <td>0</td>\n",
       "      <td>1</td>\n",
       "      <td>0</td>\n",
       "      <td>1</td>\n",
       "      <td>0</td>\n",
       "      <td>0</td>\n",
       "      <td>0</td>\n",
       "      <td>1</td>\n",
       "      <td>0</td>\n",
       "      <td>1</td>\n",
       "      <td>0</td>\n",
       "      <td>1</td>\n",
       "      <td>1</td>\n",
       "      <td>1</td>\n",
       "      <td>1</td>\n",
       "    </tr>\n",
       "    <tr>\n",
       "      <th>1</th>\n",
       "      <td>58</td>\n",
       "      <td>1</td>\n",
       "      <td>0</td>\n",
       "      <td>0</td>\n",
       "      <td>0</td>\n",
       "      <td>1</td>\n",
       "      <td>0</td>\n",
       "      <td>0</td>\n",
       "      <td>1</td>\n",
       "      <td>0</td>\n",
       "      <td>0</td>\n",
       "      <td>0</td>\n",
       "      <td>1</td>\n",
       "      <td>0</td>\n",
       "      <td>1</td>\n",
       "      <td>0</td>\n",
       "      <td>1</td>\n",
       "    </tr>\n",
       "  </tbody>\n",
       "</table>\n",
       "</div>"
      ],
      "text/plain": [
       "   Age  Gender_Male  Polyuria_Yes  Polydipsia_Yes  sudden weight loss_Yes  \\\n",
       "0   40            1             0               1                       0   \n",
       "1   58            1             0               0                       0   \n",
       "\n",
       "   weakness_Yes  Polyphagia_Yes  Genital thrush_Yes  visual blurring_Yes  \\\n",
       "0             1               0                   0                    0   \n",
       "1             1               0                   0                    1   \n",
       "\n",
       "   Itching_Yes  Irritability_Yes  delayed healing_Yes  partial paresis_Yes  \\\n",
       "0            1                 0                    1                    0   \n",
       "1            0                 0                    0                    1   \n",
       "\n",
       "   muscle stiffness_Yes  Alopecia_Yes  Obesity_Yes  result  \n",
       "0                     1             1            1       1  \n",
       "1                     0             1            0       1  "
      ]
     },
     "execution_count": 4,
     "metadata": {},
     "output_type": "execute_result"
    }
   ],
   "source": [
    "dummy=pd.get_dummies(data[['Gender', 'Polyuria', 'Polydipsia', 'sudden weight loss',\n",
    "       'weakness', 'Polyphagia', 'Genital thrush', 'visual blurring',\n",
    "       'Itching', 'Irritability', 'delayed healing', 'partial paresis',\n",
    "       'muscle stiffness', 'Alopecia', 'Obesity']],drop_first=True)\n",
    "encode= LabelEncoder()\n",
    "dummy['result']=encode.fit_transform(data['result'])\n",
    "age=data['Age']\n",
    "dummy=pd.concat([age,dummy], axis=1)\n",
    "#dummy['result_encoded'] = encode.inverse_transform(encode.fit_transform(data['result']))\n",
    "dummy.head(2)"
   ]
  },
  {
   "cell_type": "code",
   "execution_count": 5,
   "id": "f215751a",
   "metadata": {},
   "outputs": [
    {
     "data": {
      "text/plain": [
       "KNeighborsClassifier(n_neighbors=2)"
      ]
     },
     "execution_count": 5,
     "metadata": {},
     "output_type": "execute_result"
    }
   ],
   "source": [
    "train, test= train_test_split(dummy, test_size=0.3,random_state=0)\n",
    "\n",
    "train_x= train.drop(columns=['result'], axis=1)\n",
    "train_y= train.result\n",
    "test_x= test.drop(columns=['result'], axis=1)\n",
    "test_y= test.result\n",
    "knn = neighbors.KNeighborsClassifier(n_neighbors=2)\n",
    "knn.fit(train_x,train_y)"
   ]
  },
  {
   "cell_type": "code",
   "execution_count": 6,
   "id": "c78b2f94",
   "metadata": {},
   "outputs": [],
   "source": [
    "predict=knn.predict(test_x)"
   ]
  },
  {
   "cell_type": "code",
   "execution_count": 7,
   "id": "0f8f5bb8",
   "metadata": {},
   "outputs": [
    {
     "name": "stdout",
     "output_type": "stream",
     "text": [
      "classification report: \n",
      "               precision    recall  f1-score   support\n",
      "\n",
      "           0       0.76      0.98      0.86        62\n",
      "           1       0.99      0.80      0.88        94\n",
      "\n",
      "    accuracy                           0.87       156\n",
      "   macro avg       0.87      0.89      0.87       156\n",
      "weighted avg       0.90      0.87      0.87       156\n",
      "\n"
     ]
    }
   ],
   "source": [
    "from sklearn.metrics import classification_report, confusion_matrix\n",
    "print(\"classification report: \\n\",classification_report(test_y, predict))"
   ]
  },
  {
   "cell_type": "code",
   "execution_count": 8,
   "id": "538da76e",
   "metadata": {},
   "outputs": [
    {
     "name": "stdout",
     "output_type": "stream",
     "text": [
      "confusion matrix: \n",
      " [[61  1]\n",
      " [19 75]]\n"
     ]
    }
   ],
   "source": [
    "print(\"confusion matrix: \\n\", confusion_matrix(test_y,predict))"
   ]
  },
  {
   "cell_type": "code",
   "execution_count": 9,
   "id": "10fade4c",
   "metadata": {},
   "outputs": [
    {
     "data": {
      "text/html": [
       "<div>\n",
       "<style scoped>\n",
       "    .dataframe tbody tr th:only-of-type {\n",
       "        vertical-align: middle;\n",
       "    }\n",
       "\n",
       "    .dataframe tbody tr th {\n",
       "        vertical-align: top;\n",
       "    }\n",
       "\n",
       "    .dataframe thead th {\n",
       "        text-align: right;\n",
       "    }\n",
       "</style>\n",
       "<table border=\"1\" class=\"dataframe\">\n",
       "  <thead>\n",
       "    <tr style=\"text-align: right;\">\n",
       "      <th></th>\n",
       "      <th>actual_value</th>\n",
       "      <th>predicted_value</th>\n",
       "    </tr>\n",
       "  </thead>\n",
       "  <tbody>\n",
       "    <tr>\n",
       "      <th>422</th>\n",
       "      <td>1</td>\n",
       "      <td>0</td>\n",
       "    </tr>\n",
       "    <tr>\n",
       "      <th>107</th>\n",
       "      <td>1</td>\n",
       "      <td>1</td>\n",
       "    </tr>\n",
       "    <tr>\n",
       "      <th>253</th>\n",
       "      <td>1</td>\n",
       "      <td>1</td>\n",
       "    </tr>\n",
       "    <tr>\n",
       "      <th>235</th>\n",
       "      <td>0</td>\n",
       "      <td>0</td>\n",
       "    </tr>\n",
       "    <tr>\n",
       "      <th>311</th>\n",
       "      <td>0</td>\n",
       "      <td>0</td>\n",
       "    </tr>\n",
       "    <tr>\n",
       "      <th>...</th>\n",
       "      <td>...</td>\n",
       "      <td>...</td>\n",
       "    </tr>\n",
       "    <tr>\n",
       "      <th>52</th>\n",
       "      <td>1</td>\n",
       "      <td>1</td>\n",
       "    </tr>\n",
       "    <tr>\n",
       "      <th>74</th>\n",
       "      <td>1</td>\n",
       "      <td>1</td>\n",
       "    </tr>\n",
       "    <tr>\n",
       "      <th>26</th>\n",
       "      <td>1</td>\n",
       "      <td>1</td>\n",
       "    </tr>\n",
       "    <tr>\n",
       "      <th>213</th>\n",
       "      <td>0</td>\n",
       "      <td>1</td>\n",
       "    </tr>\n",
       "    <tr>\n",
       "      <th>4</th>\n",
       "      <td>1</td>\n",
       "      <td>1</td>\n",
       "    </tr>\n",
       "  </tbody>\n",
       "</table>\n",
       "<p>156 rows × 2 columns</p>\n",
       "</div>"
      ],
      "text/plain": [
       "     actual_value  predicted_value\n",
       "422             1                0\n",
       "107             1                1\n",
       "253             1                1\n",
       "235             0                0\n",
       "311             0                0\n",
       "..            ...              ...\n",
       "52              1                1\n",
       "74              1                1\n",
       "26              1                1\n",
       "213             0                1\n",
       "4               1                1\n",
       "\n",
       "[156 rows x 2 columns]"
      ]
     },
     "execution_count": 9,
     "metadata": {},
     "output_type": "execute_result"
    }
   ],
   "source": [
    "combined= pd.concat([test_y,pd.Series(predict, index= test_y.index)], axis=1)\n",
    "combined.columns=['actual_value','predicted_value']\n",
    "combined"
   ]
  },
  {
   "cell_type": "code",
   "execution_count": 10,
   "id": "8a510195",
   "metadata": {},
   "outputs": [
    {
     "data": {
      "text/plain": [
       "1    94\n",
       "0    62\n",
       "Name: result, dtype: int64"
      ]
     },
     "execution_count": 10,
     "metadata": {},
     "output_type": "execute_result"
    }
   ],
   "source": [
    "n=predict=test_y\n",
    "n.value_counts()"
   ]
  },
  {
   "cell_type": "code",
   "execution_count": null,
   "id": "00a5ca35",
   "metadata": {},
   "outputs": [],
   "source": []
  },
  {
   "cell_type": "raw",
   "id": "016ef7bc",
   "metadata": {},
   "source": [
    "New data"
   ]
  },
  {
   "cell_type": "code",
   "execution_count": 11,
   "id": "60ffc8a4",
   "metadata": {},
   "outputs": [
    {
     "name": "stdout",
     "output_type": "stream",
     "text": [
      "0\n"
     ]
    }
   ],
   "source": [
    "dataTN=pd.DataFrame(pd.read_excel('C:/Users/priya/OneDrive/Desktop/Priyanka/Study/Python/Diabetes project/dataset/New_data_TN.xlsx'))\n",
    "dataTN.columns=(['Age','Gender_Male', 'Polyuria_Yes', 'Polydipsia_Yes',\n",
    "       'sudden weight loss_Yes', 'weakness_Yes', 'Polyphagia_Yes',\n",
    "       'Genital thrush_Yes', 'visual blurring_Yes', 'Itching_Yes',\n",
    "       'Irritability_Yes', 'delayed healing_Yes', 'partial paresis_Yes',\n",
    "       'muscle stiffness_Yes', 'Alopecia_Yes', 'Obesity_Yes'])\n",
    "dataTN\n",
    "predict1 =knn.predict(dataTN)[0]\n",
    "print(predict1)"
   ]
  },
  {
   "cell_type": "code",
   "execution_count": 12,
   "id": "e4e8e4e4",
   "metadata": {},
   "outputs": [
    {
     "name": "stdout",
     "output_type": "stream",
     "text": [
      "1\n"
     ]
    }
   ],
   "source": [
    "dataTP=pd.DataFrame(pd.read_excel('C:/Users/priya/OneDrive/Desktop/Priyanka/Study/Python/Diabetes project/dataset/New_data_TP.xlsx'))\n",
    "dataTP.columns=(['Age','Gender_Male', 'Polyuria_Yes', 'Polydipsia_Yes',\n",
    "       'sudden weight loss_Yes', 'weakness_Yes', 'Polyphagia_Yes',\n",
    "       'Genital thrush_Yes', 'visual blurring_Yes', 'Itching_Yes',\n",
    "       'Irritability_Yes', 'delayed healing_Yes', 'partial paresis_Yes',\n",
    "       'muscle stiffness_Yes', 'Alopecia_Yes', 'Obesity_Yes'])\n",
    "dataTP\n",
    "predict1 =knn.predict(dataTP)[0]\n",
    "print(predict1)"
   ]
  },
  {
   "cell_type": "code",
   "execution_count": 22,
   "id": "6092a8dc",
   "metadata": {},
   "outputs": [],
   "source": [
    "import pickle\n",
    "with open('C:/Users/priya/OneDrive/Desktop/Priyanka/Study/Python/Diabetes project/diabetesnet/webapp/model/Diabetes_KNN.pk1', 'wb') as model:\n",
    "    pickle.dump(knn,model)"
   ]
  },
  {
   "cell_type": "code",
   "execution_count": 14,
   "id": "9863a27c",
   "metadata": {},
   "outputs": [
    {
     "name": "stdout",
     "output_type": "stream",
     "text": [
      "Please provide information below: \n"
     ]
    },
    {
     "ename": "KeyboardInterrupt",
     "evalue": "Interrupted by user",
     "output_type": "error",
     "traceback": [
      "\u001b[1;31m---------------------------------------------------------------------------\u001b[0m",
      "\u001b[1;31mKeyboardInterrupt\u001b[0m                         Traceback (most recent call last)",
      "\u001b[1;32m~\\AppData\\Local\\Temp/ipykernel_3852/3392989346.py\u001b[0m in \u001b[0;36m<module>\u001b[1;34m\u001b[0m\n\u001b[0;32m      1\u001b[0m \u001b[0mprint\u001b[0m\u001b[1;33m(\u001b[0m\u001b[1;34m\"Please provide information below: \"\u001b[0m\u001b[1;33m)\u001b[0m\u001b[1;33m\u001b[0m\u001b[1;33m\u001b[0m\u001b[0m\n\u001b[1;32m----> 2\u001b[1;33m \u001b[0mAge\u001b[0m\u001b[1;33m=\u001b[0m \u001b[0minput\u001b[0m\u001b[1;33m(\u001b[0m\u001b[1;34m\"Age: \"\u001b[0m\u001b[1;33m)\u001b[0m\u001b[1;33m\u001b[0m\u001b[1;33m\u001b[0m\u001b[0m\n\u001b[0m\u001b[0;32m      3\u001b[0m \u001b[0mGender\u001b[0m\u001b[1;33m=\u001b[0m \u001b[0minput\u001b[0m\u001b[1;33m(\u001b[0m\u001b[1;34m\"Gender (male/female/other): \"\u001b[0m\u001b[1;33m)\u001b[0m\u001b[1;33m\u001b[0m\u001b[1;33m\u001b[0m\u001b[0m\n\u001b[0;32m      4\u001b[0m \u001b[0mprint\u001b[0m\u001b[1;33m(\u001b[0m\u001b[1;34m\"Answer below in Yes/No\"\u001b[0m\u001b[1;33m)\u001b[0m\u001b[1;33m\u001b[0m\u001b[1;33m\u001b[0m\u001b[0m\n\u001b[0;32m      5\u001b[0m \u001b[0mPolyu\u001b[0m\u001b[1;33m=\u001b[0m\u001b[0minput\u001b[0m\u001b[1;33m(\u001b[0m\u001b[1;34m\"Signs of Polyuria?: \"\u001b[0m\u001b[1;33m)\u001b[0m\u001b[1;33m\u001b[0m\u001b[1;33m\u001b[0m\u001b[0m\n",
      "\u001b[1;32m~\\anaconda3\\envs\\Myvirtualenv\\lib\\site-packages\\ipykernel\\kernelbase.py\u001b[0m in \u001b[0;36mraw_input\u001b[1;34m(self, prompt)\u001b[0m\n\u001b[0;32m   1004\u001b[0m                 \u001b[1;34m\"raw_input was called, but this frontend does not support input requests.\"\u001b[0m\u001b[1;33m\u001b[0m\u001b[1;33m\u001b[0m\u001b[0m\n\u001b[0;32m   1005\u001b[0m             )\n\u001b[1;32m-> 1006\u001b[1;33m         return self._input_request(\n\u001b[0m\u001b[0;32m   1007\u001b[0m             \u001b[0mstr\u001b[0m\u001b[1;33m(\u001b[0m\u001b[0mprompt\u001b[0m\u001b[1;33m)\u001b[0m\u001b[1;33m,\u001b[0m\u001b[1;33m\u001b[0m\u001b[1;33m\u001b[0m\u001b[0m\n\u001b[0;32m   1008\u001b[0m             \u001b[0mself\u001b[0m\u001b[1;33m.\u001b[0m\u001b[0m_parent_ident\u001b[0m\u001b[1;33m[\u001b[0m\u001b[1;34m\"shell\"\u001b[0m\u001b[1;33m]\u001b[0m\u001b[1;33m,\u001b[0m\u001b[1;33m\u001b[0m\u001b[1;33m\u001b[0m\u001b[0m\n",
      "\u001b[1;32m~\\anaconda3\\envs\\Myvirtualenv\\lib\\site-packages\\ipykernel\\kernelbase.py\u001b[0m in \u001b[0;36m_input_request\u001b[1;34m(self, prompt, ident, parent, password)\u001b[0m\n\u001b[0;32m   1049\u001b[0m             \u001b[1;32mexcept\u001b[0m \u001b[0mKeyboardInterrupt\u001b[0m\u001b[1;33m:\u001b[0m\u001b[1;33m\u001b[0m\u001b[1;33m\u001b[0m\u001b[0m\n\u001b[0;32m   1050\u001b[0m                 \u001b[1;31m# re-raise KeyboardInterrupt, to truncate traceback\u001b[0m\u001b[1;33m\u001b[0m\u001b[1;33m\u001b[0m\u001b[0m\n\u001b[1;32m-> 1051\u001b[1;33m                 \u001b[1;32mraise\u001b[0m \u001b[0mKeyboardInterrupt\u001b[0m\u001b[1;33m(\u001b[0m\u001b[1;34m\"Interrupted by user\"\u001b[0m\u001b[1;33m)\u001b[0m \u001b[1;32mfrom\u001b[0m \u001b[1;32mNone\u001b[0m\u001b[1;33m\u001b[0m\u001b[1;33m\u001b[0m\u001b[0m\n\u001b[0m\u001b[0;32m   1052\u001b[0m             \u001b[1;32mexcept\u001b[0m \u001b[0mException\u001b[0m\u001b[1;33m:\u001b[0m\u001b[1;33m\u001b[0m\u001b[1;33m\u001b[0m\u001b[0m\n\u001b[0;32m   1053\u001b[0m                 \u001b[0mself\u001b[0m\u001b[1;33m.\u001b[0m\u001b[0mlog\u001b[0m\u001b[1;33m.\u001b[0m\u001b[0mwarning\u001b[0m\u001b[1;33m(\u001b[0m\u001b[1;34m\"Invalid Message:\"\u001b[0m\u001b[1;33m,\u001b[0m \u001b[0mexc_info\u001b[0m\u001b[1;33m=\u001b[0m\u001b[1;32mTrue\u001b[0m\u001b[1;33m)\u001b[0m\u001b[1;33m\u001b[0m\u001b[1;33m\u001b[0m\u001b[0m\n",
      "\u001b[1;31mKeyboardInterrupt\u001b[0m: Interrupted by user"
     ]
    }
   ],
   "source": [
    "print(\"Please provide information below: \")\n",
    "Age= input(\"Age: \")\n",
    "Gender= input(\"Gender (male/female/other): \")\n",
    "print(\"Answer below in Yes/No\")\n",
    "Polyu=input(\"Signs of Polyuria?: \")\n",
    "Polyd= input(\"Signs of Polydipsia?: \")\n",
    "SWL= input(\"Signs of sudden weight loss?: \")\n",
    "W= input(\"weakness?: \")\n",
    "P= input(\"Signs of Polyphagia?: \")\n",
    "GT= input(\"Any Genital thrush?: \")\n",
    "VB= input(\"visual blurring?: \")\n",
    "I= input(\"Any itching?: \")\n",
    "Irr= input(\"Any signs of Irritability?: \")\n",
    "DH= input(\" Delayed Healing?: \")\n",
    "PP= input(\"Sign of partial paresis?: \")\n",
    "MS= input(\"Any muscle stiffness?: \")\n",
    "A= input(\"Alopecia?: \")\n",
    "O= input(\"Obesity?: \")\n"
   ]
  },
  {
   "cell_type": "code",
   "execution_count": null,
   "id": "2bdf0c5c",
   "metadata": {},
   "outputs": [],
   "source": [
    "input_data=pd.DataFrame([[Age,Gender,Polyu,Polyd,SWL ,W ,P ,GT ,VB,I ,Irr ,DH ,PP ,MS ,A,O]],columns=['Age','Gender_Male', 'Polyuria_Yes', 'Polydipsia_Yes',\n",
    "       'sudden weight loss_Yes', 'weakness_Yes', 'Polyphagia_Yes',\n",
    "       'Genital thrush_Yes', 'visual blurring_Yes', 'Itching_Yes',\n",
    "       'Irritability_Yes', 'delayed healing_Yes', 'partial paresis_Yes',\n",
    "       'muscle stiffness_Yes', 'Alopecia_Yes', 'Obesity_Yes'])\n"
   ]
  },
  {
   "cell_type": "code",
   "execution_count": null,
   "id": "03ac2c5d",
   "metadata": {},
   "outputs": [],
   "source": [
    "input_data['Age'] = input_data['Age'].astype(int)\n",
    "input_data=input_data.applymap(lambda s:s.lower() if type(s) == str else s)\n",
    "input_data=input_data.replace(('male','female','no','yes'),(1,0,0,1))\n",
    "input_data.astype(float)\n",
    "input_data"
   ]
  },
  {
   "cell_type": "code",
   "execution_count": null,
   "id": "59e5c25f",
   "metadata": {},
   "outputs": [],
   "source": [
    "predict2=knn.predict(input_data)[0]\n",
    "print(predict2)"
   ]
  },
  {
   "cell_type": "code",
   "execution_count": null,
   "id": "30cb46d0",
   "metadata": {},
   "outputs": [],
   "source": []
  }
 ],
 "metadata": {
  "kernelspec": {
   "display_name": "Python 3 (ipykernel)",
   "language": "python",
   "name": "python3"
  },
  "language_info": {
   "codemirror_mode": {
    "name": "ipython",
    "version": 3
   },
   "file_extension": ".py",
   "mimetype": "text/x-python",
   "name": "python",
   "nbconvert_exporter": "python",
   "pygments_lexer": "ipython3",
   "version": "3.10.0"
  }
 },
 "nbformat": 4,
 "nbformat_minor": 5
}
