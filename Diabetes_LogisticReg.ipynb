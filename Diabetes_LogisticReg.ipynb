{
 "cells": [
  {
   "cell_type": "code",
   "execution_count": 73,
   "id": "3e3c8e31",
   "metadata": {},
   "outputs": [],
   "source": [
    "import pandas as pd\n",
    "from sklearn.linear_model import LogisticRegression\n",
    "from sklearn.model_selection import train_test_split\n",
    "from sklearn.preprocessing import LabelEncoder\n",
    "from sklearn.metrics import accuracy_score\n",
    "import numpy as np\n",
    "import seaborn as sns\n",
    "import matplotlib.pyplot as plt\n",
    "%matplotlib inline\n",
    "from sklearn import neighbors\n"
   ]
  },
  {
   "cell_type": "code",
   "execution_count": 21,
   "id": "8732c105",
   "metadata": {},
   "outputs": [],
   "source": [
    "#inputdata =['Age', 'Gender', 'Polyuria', 'Polydipsia' ,'sudden_weight_loss', 'weakness', 'Polyphagia', 'Genital_thrush', 'visual_blurring', 'Itching', 'Irritability', 'delayed_healing', 'partial paresis', 'muscle stiffness', 'Alopecia', 'Obesity']\n",
    "#inputdata=np.array(inputdata).reshape((1, 16))\n",
    "#inputdata = pd.DataFrame(data = inputdata, index = [\"0\"], columns = [\"Age\", \"Gender\", \"Polyuria\", \"Polydipsia\" ,\"sudden weight loss\", \"weakness\", \"Polyphagia\", \"Genital thrush\", \"visual blurring\", \"Itching\",\"Irritability\",\"delayed healing\",\"partial paresis\",\"muscle stiffness\",\"Alopecia\",\"Obesity\"])"
   ]
  },
  {
   "cell_type": "code",
   "execution_count": 74,
   "id": "a3508ba5",
   "metadata": {},
   "outputs": [
    {
     "data": {
      "text/html": [
       "<div>\n",
       "<style scoped>\n",
       "    .dataframe tbody tr th:only-of-type {\n",
       "        vertical-align: middle;\n",
       "    }\n",
       "\n",
       "    .dataframe tbody tr th {\n",
       "        vertical-align: top;\n",
       "    }\n",
       "\n",
       "    .dataframe thead th {\n",
       "        text-align: right;\n",
       "    }\n",
       "</style>\n",
       "<table border=\"1\" class=\"dataframe\">\n",
       "  <thead>\n",
       "    <tr style=\"text-align: right;\">\n",
       "      <th></th>\n",
       "      <th>Age</th>\n",
       "      <th>Gender</th>\n",
       "      <th>Polyuria</th>\n",
       "      <th>Polydipsia</th>\n",
       "      <th>sudden weight loss</th>\n",
       "      <th>weakness</th>\n",
       "      <th>Polyphagia</th>\n",
       "      <th>Genital thrush</th>\n",
       "      <th>visual blurring</th>\n",
       "      <th>Itching</th>\n",
       "      <th>Irritability</th>\n",
       "      <th>delayed healing</th>\n",
       "      <th>partial paresis</th>\n",
       "      <th>muscle stiffness</th>\n",
       "      <th>Alopecia</th>\n",
       "      <th>Obesity</th>\n",
       "      <th>result</th>\n",
       "    </tr>\n",
       "  </thead>\n",
       "  <tbody>\n",
       "    <tr>\n",
       "      <th>133</th>\n",
       "      <td>16</td>\n",
       "      <td>Male</td>\n",
       "      <td>Yes</td>\n",
       "      <td>No</td>\n",
       "      <td>Yes</td>\n",
       "      <td>No</td>\n",
       "      <td>Yes</td>\n",
       "      <td>No</td>\n",
       "      <td>No</td>\n",
       "      <td>No</td>\n",
       "      <td>No</td>\n",
       "      <td>No</td>\n",
       "      <td>No</td>\n",
       "      <td>No</td>\n",
       "      <td>No</td>\n",
       "      <td>No</td>\n",
       "      <td>Positive</td>\n",
       "    </tr>\n",
       "  </tbody>\n",
       "</table>\n",
       "</div>"
      ],
      "text/plain": [
       "     Age Gender Polyuria Polydipsia sudden weight loss weakness Polyphagia  \\\n",
       "133   16   Male      Yes         No                Yes       No        Yes   \n",
       "\n",
       "    Genital thrush visual blurring Itching Irritability delayed healing  \\\n",
       "133             No              No      No           No              No   \n",
       "\n",
       "    partial paresis muscle stiffness Alopecia Obesity    result  \n",
       "133              No               No       No      No  Positive  "
      ]
     },
     "execution_count": 74,
     "metadata": {},
     "output_type": "execute_result"
    }
   ],
   "source": [
    "data= pd.DataFrame(pd.read_csv('C:/Users/priya/OneDrive/Desktop/Priyanka/Study/Python/Diabetes project/dataset/original/diabetes.csv', delimiter=\",\"))\n",
    "data.loc[data.Age<20]"
   ]
  },
  {
   "cell_type": "code",
   "execution_count": 75,
   "id": "80990d28",
   "metadata": {},
   "outputs": [
    {
     "data": {
      "text/html": [
       "<div>\n",
       "<style scoped>\n",
       "    .dataframe tbody tr th:only-of-type {\n",
       "        vertical-align: middle;\n",
       "    }\n",
       "\n",
       "    .dataframe tbody tr th {\n",
       "        vertical-align: top;\n",
       "    }\n",
       "\n",
       "    .dataframe thead th {\n",
       "        text-align: right;\n",
       "    }\n",
       "</style>\n",
       "<table border=\"1\" class=\"dataframe\">\n",
       "  <thead>\n",
       "    <tr style=\"text-align: right;\">\n",
       "      <th></th>\n",
       "      <th>Age</th>\n",
       "      <th>Gender_Male</th>\n",
       "      <th>Polyuria_Yes</th>\n",
       "      <th>Polydipsia_Yes</th>\n",
       "      <th>sudden weight loss_Yes</th>\n",
       "      <th>weakness_Yes</th>\n",
       "      <th>Polyphagia_Yes</th>\n",
       "      <th>Genital thrush_Yes</th>\n",
       "      <th>visual blurring_Yes</th>\n",
       "      <th>Itching_Yes</th>\n",
       "      <th>Irritability_Yes</th>\n",
       "      <th>delayed healing_Yes</th>\n",
       "      <th>partial paresis_Yes</th>\n",
       "      <th>muscle stiffness_Yes</th>\n",
       "      <th>Alopecia_Yes</th>\n",
       "      <th>Obesity_Yes</th>\n",
       "      <th>result</th>\n",
       "    </tr>\n",
       "  </thead>\n",
       "  <tbody>\n",
       "    <tr>\n",
       "      <th>0</th>\n",
       "      <td>40</td>\n",
       "      <td>1</td>\n",
       "      <td>0</td>\n",
       "      <td>1</td>\n",
       "      <td>0</td>\n",
       "      <td>1</td>\n",
       "      <td>0</td>\n",
       "      <td>0</td>\n",
       "      <td>0</td>\n",
       "      <td>1</td>\n",
       "      <td>0</td>\n",
       "      <td>1</td>\n",
       "      <td>0</td>\n",
       "      <td>1</td>\n",
       "      <td>1</td>\n",
       "      <td>1</td>\n",
       "      <td>1</td>\n",
       "    </tr>\n",
       "    <tr>\n",
       "      <th>1</th>\n",
       "      <td>58</td>\n",
       "      <td>1</td>\n",
       "      <td>0</td>\n",
       "      <td>0</td>\n",
       "      <td>0</td>\n",
       "      <td>1</td>\n",
       "      <td>0</td>\n",
       "      <td>0</td>\n",
       "      <td>1</td>\n",
       "      <td>0</td>\n",
       "      <td>0</td>\n",
       "      <td>0</td>\n",
       "      <td>1</td>\n",
       "      <td>0</td>\n",
       "      <td>1</td>\n",
       "      <td>0</td>\n",
       "      <td>1</td>\n",
       "    </tr>\n",
       "  </tbody>\n",
       "</table>\n",
       "</div>"
      ],
      "text/plain": [
       "   Age  Gender_Male  Polyuria_Yes  Polydipsia_Yes  sudden weight loss_Yes  \\\n",
       "0   40            1             0               1                       0   \n",
       "1   58            1             0               0                       0   \n",
       "\n",
       "   weakness_Yes  Polyphagia_Yes  Genital thrush_Yes  visual blurring_Yes  \\\n",
       "0             1               0                   0                    0   \n",
       "1             1               0                   0                    1   \n",
       "\n",
       "   Itching_Yes  Irritability_Yes  delayed healing_Yes  partial paresis_Yes  \\\n",
       "0            1                 0                    1                    0   \n",
       "1            0                 0                    0                    1   \n",
       "\n",
       "   muscle stiffness_Yes  Alopecia_Yes  Obesity_Yes  result  \n",
       "0                     1             1            1       1  \n",
       "1                     0             1            0       1  "
      ]
     },
     "execution_count": 75,
     "metadata": {},
     "output_type": "execute_result"
    }
   ],
   "source": [
    "dummy=pd.get_dummies(data[['Gender', 'Polyuria', 'Polydipsia', 'sudden weight loss',\n",
    "       'weakness', 'Polyphagia', 'Genital thrush', 'visual blurring',\n",
    "       'Itching', 'Irritability', 'delayed healing', 'partial paresis',\n",
    "       'muscle stiffness', 'Alopecia', 'Obesity']],drop_first=True)\n",
    "encode= LabelEncoder()\n",
    "dummy['result']=encode.fit_transform(data['result'])\n",
    "age=data['Age']\n",
    "dummy=pd.concat([age,dummy], axis=1)\n",
    "#dummy['result_encoded'] = encode.inverse_transform(encode.fit_transform(data['result']))\n",
    "dummy.head(2)"
   ]
  },
  {
   "cell_type": "code",
   "execution_count": 77,
   "id": "f215751a",
   "metadata": {},
   "outputs": [
    {
     "data": {
      "text/plain": [
       "LogisticRegression()"
      ]
     },
     "execution_count": 77,
     "metadata": {},
     "output_type": "execute_result"
    }
   ],
   "source": [
    "train, test= train_test_split(dummy, test_size= 0.1,random_state=0)\n",
    "\n",
    "train_x= train.drop(columns=['result'], axis=1)\n",
    "train_y= train.result\n",
    "test_x= test.drop(columns=['result'], axis=1)\n",
    "test_y= test.result\n",
    "lnr= LogisticRegression()\n",
    "lnr.fit(train_x,train_y)"
   ]
  },
  {
   "cell_type": "code",
   "execution_count": 78,
   "id": "c78b2f94",
   "metadata": {},
   "outputs": [],
   "source": [
    "predict=lnr.predict(test_x)"
   ]
  },
  {
   "cell_type": "code",
   "execution_count": 79,
   "id": "0f8f5bb8",
   "metadata": {},
   "outputs": [
    {
     "name": "stdout",
     "output_type": "stream",
     "text": [
      "classification report: \n",
      "               precision    recall  f1-score   support\n",
      "\n",
      "           0       0.94      0.88      0.91        17\n",
      "           1       0.94      0.97      0.96        35\n",
      "\n",
      "    accuracy                           0.94        52\n",
      "   macro avg       0.94      0.93      0.93        52\n",
      "weighted avg       0.94      0.94      0.94        52\n",
      "\n"
     ]
    }
   ],
   "source": [
    "from sklearn.metrics import classification_report, confusion_matrix\n",
    "print(\"classification report: \\n\",classification_report(test_y, predict))"
   ]
  },
  {
   "cell_type": "code",
   "execution_count": 89,
   "id": "538da76e",
   "metadata": {},
   "outputs": [
    {
     "name": "stdout",
     "output_type": "stream",
     "text": [
      "confusion matrix: \n",
      " [[15  2]\n",
      " [ 1 34]]\n"
     ]
    }
   ],
   "source": [
    "print(\"confusion matrix: \\n\", confusion_matrix(test_y,predict))"
   ]
  },
  {
   "cell_type": "code",
   "execution_count": 81,
   "id": "10fade4c",
   "metadata": {},
   "outputs": [
    {
     "data": {
      "text/html": [
       "<div>\n",
       "<style scoped>\n",
       "    .dataframe tbody tr th:only-of-type {\n",
       "        vertical-align: middle;\n",
       "    }\n",
       "\n",
       "    .dataframe tbody tr th {\n",
       "        vertical-align: top;\n",
       "    }\n",
       "\n",
       "    .dataframe thead th {\n",
       "        text-align: right;\n",
       "    }\n",
       "</style>\n",
       "<table border=\"1\" class=\"dataframe\">\n",
       "  <thead>\n",
       "    <tr style=\"text-align: right;\">\n",
       "      <th></th>\n",
       "      <th>actual_value</th>\n",
       "      <th>predicted_value</th>\n",
       "    </tr>\n",
       "  </thead>\n",
       "  <tbody>\n",
       "    <tr>\n",
       "      <th>385</th>\n",
       "      <td>1</td>\n",
       "      <td>0</td>\n",
       "    </tr>\n",
       "    <tr>\n",
       "      <th>200</th>\n",
       "      <td>0</td>\n",
       "      <td>1</td>\n",
       "    </tr>\n",
       "    <tr>\n",
       "      <th>316</th>\n",
       "      <td>0</td>\n",
       "      <td>1</td>\n",
       "    </tr>\n",
       "  </tbody>\n",
       "</table>\n",
       "</div>"
      ],
      "text/plain": [
       "     actual_value  predicted_value\n",
       "385             1                0\n",
       "200             0                1\n",
       "316             0                1"
      ]
     },
     "execution_count": 81,
     "metadata": {},
     "output_type": "execute_result"
    }
   ],
   "source": [
    "combined= pd.concat([test_y,pd.Series(predict, index= test_y.index)], axis=1)\n",
    "combined.columns=['actual_value','predicted_value']\n",
    "\n",
    "instance= combined.loc[combined.actual_value != combined.predicted_value]\n",
    "instance.head()"
   ]
  },
  {
   "cell_type": "code",
   "execution_count": 82,
   "id": "8a510195",
   "metadata": {},
   "outputs": [
    {
     "data": {
      "text/plain": [
       "False    49\n",
       "True      3\n",
       "Name: result, dtype: int64"
      ]
     },
     "execution_count": 82,
     "metadata": {},
     "output_type": "execute_result"
    }
   ],
   "source": [
    "n=predict!=test_y\n",
    "n.value_counts()"
   ]
  },
  {
   "cell_type": "code",
   "execution_count": 83,
   "id": "a25c3049",
   "metadata": {},
   "outputs": [],
   "source": [
    "import pickle\n",
    "with open('diabetes_lnr.pkl', 'wb') as file:\n",
    "    pickle.dump(lnr, file)"
   ]
  },
  {
   "cell_type": "code",
   "execution_count": null,
   "id": "00a5ca35",
   "metadata": {},
   "outputs": [],
   "source": []
  },
  {
   "cell_type": "raw",
   "id": "016ef7bc",
   "metadata": {},
   "source": [
    "New data"
   ]
  },
  {
   "cell_type": "code",
   "execution_count": 84,
   "id": "60ffc8a4",
   "metadata": {},
   "outputs": [
    {
     "name": "stdout",
     "output_type": "stream",
     "text": [
      "0\n"
     ]
    }
   ],
   "source": [
    "dataTN=pd.DataFrame(pd.read_excel('C:/Users/priya/OneDrive/Desktop/Priyanka/Study/Python/Diabetes project/dataset/New_data_TN.xlsx'))\n",
    "dataTN.columns=(['Age','Gender_Male', 'Polyuria_Yes', 'Polydipsia_Yes',\n",
    "       'sudden weight loss_Yes', 'weakness_Yes', 'Polyphagia_Yes',\n",
    "       'Genital thrush_Yes', 'visual blurring_Yes', 'Itching_Yes',\n",
    "       'Irritability_Yes', 'delayed healing_Yes', 'partial paresis_Yes',\n",
    "       'muscle stiffness_Yes', 'Alopecia_Yes', 'Obesity_Yes'])\n",
    "dataTN\n",
    "predict1 =lnr.predict(dataTN)[0]\n",
    "print(predict1)"
   ]
  },
  {
   "cell_type": "code",
   "execution_count": 85,
   "id": "e4e8e4e4",
   "metadata": {},
   "outputs": [
    {
     "name": "stdout",
     "output_type": "stream",
     "text": [
      "1\n"
     ]
    }
   ],
   "source": [
    "dataTP=pd.DataFrame(pd.read_excel('C:/Users/priya/OneDrive/Desktop/Priyanka/Study/Python/Diabetes project/dataset/New_data_TP.xlsx'))\n",
    "dataTP.columns=(['Age','Gender_Male', 'Polyuria_Yes', 'Polydipsia_Yes',\n",
    "       'sudden weight loss_Yes', 'weakness_Yes', 'Polyphagia_Yes',\n",
    "       'Genital thrush_Yes', 'visual blurring_Yes', 'Itching_Yes',\n",
    "       'Irritability_Yes', 'delayed healing_Yes', 'partial paresis_Yes',\n",
    "       'muscle stiffness_Yes', 'Alopecia_Yes', 'Obesity_Yes'])\n",
    "dataTP\n",
    "predict1 =lnr.predict(dataTP)[0]\n",
    "print(predict1)"
   ]
  },
  {
   "cell_type": "code",
   "execution_count": 33,
   "id": "6092a8dc",
   "metadata": {},
   "outputs": [
    {
     "name": "stdout",
     "output_type": "stream",
     "text": [
      "<class 'pandas.core.frame.DataFrame'>\n",
      "Int64Index: 364 entries, 457 to 192\n",
      "Data columns (total 17 columns):\n",
      " #   Column                  Non-Null Count  Dtype\n",
      "---  ------                  --------------  -----\n",
      " 0   Age                     364 non-null    int64\n",
      " 1   Gender_Male             364 non-null    uint8\n",
      " 2   Polyuria_Yes            364 non-null    uint8\n",
      " 3   Polydipsia_Yes          364 non-null    uint8\n",
      " 4   sudden weight loss_Yes  364 non-null    uint8\n",
      " 5   weakness_Yes            364 non-null    uint8\n",
      " 6   Polyphagia_Yes          364 non-null    uint8\n",
      " 7   Genital thrush_Yes      364 non-null    uint8\n",
      " 8   visual blurring_Yes     364 non-null    uint8\n",
      " 9   Itching_Yes             364 non-null    uint8\n",
      " 10  Irritability_Yes        364 non-null    uint8\n",
      " 11  delayed healing_Yes     364 non-null    uint8\n",
      " 12  partial paresis_Yes     364 non-null    uint8\n",
      " 13  muscle stiffness_Yes    364 non-null    uint8\n",
      " 14  Alopecia_Yes            364 non-null    uint8\n",
      " 15  Obesity_Yes             364 non-null    uint8\n",
      " 16  result                  364 non-null    int32\n",
      "dtypes: int32(1), int64(1), uint8(15)\n",
      "memory usage: 12.4 KB\n"
     ]
    }
   ],
   "source": [
    "train.info()"
   ]
  },
  {
   "cell_type": "code",
   "execution_count": 99,
   "id": "9863a27c",
   "metadata": {},
   "outputs": [
    {
     "name": "stdout",
     "output_type": "stream",
     "text": [
      "Please provide information below: \n",
      "Age: 14\n",
      "Gender (male/female/other): female\n",
      "Answer below in Yes/No\n",
      "Signs of Polyuria?: yes\n",
      "Signs of Polydipsia?: yes\n",
      "Signs of sudden weight loss?: no\n",
      "weakness?: no\n",
      "Signs of Polyphagia?: yes\n",
      "Any Genital thrush?: no\n",
      "visual blurring?: no\n",
      "Any itching?: no\n",
      "Any signs of Irritability?: no\n",
      " Delayed Healing?: yes\n",
      "Sign of partial paresis?: no\n",
      "Any muscle stiffness?: no\n",
      "Alopecia?: no\n",
      "Obesity?: no\n"
     ]
    }
   ],
   "source": [
    "print(\"Please provide information below: \")\n",
    "Age= input(\"Age: \")\n",
    "Gender= input(\"Gender (male/female/other): \")\n",
    "print(\"Answer below in Yes/No\")\n",
    "Polyu=input(\"Signs of Polyuria?: \")\n",
    "Polyd= input(\"Signs of Polydipsia?: \")\n",
    "SWL= input(\"Signs of sudden weight loss?: \")\n",
    "W= input(\"weakness?: \")\n",
    "P= input(\"Signs of Polyphagia?: \")\n",
    "GT= input(\"Any Genital thrush?: \")\n",
    "VB= input(\"visual blurring?: \")\n",
    "I= input(\"Any itching?: \")\n",
    "Irr= input(\"Any signs of Irritability?: \")\n",
    "DH= input(\" Delayed Healing?: \")\n",
    "PP= input(\"Sign of partial paresis?: \")\n",
    "MS= input(\"Any muscle stiffness?: \")\n",
    "A= input(\"Alopecia?: \")\n",
    "O= input(\"Obesity?: \")\n"
   ]
  },
  {
   "cell_type": "code",
   "execution_count": 100,
   "id": "2bdf0c5c",
   "metadata": {},
   "outputs": [],
   "source": [
    "input_data=pd.DataFrame([[Age,Gender,Polyu,Polyd,SWL ,W ,P ,GT ,VB,I ,Irr ,DH ,PP ,MS ,A,O]],columns=['Age','Gender_Male', 'Polyuria_Yes', 'Polydipsia_Yes',\n",
    "       'sudden weight loss_Yes', 'weakness_Yes', 'Polyphagia_Yes',\n",
    "       'Genital thrush_Yes', 'visual blurring_Yes', 'Itching_Yes',\n",
    "       'Irritability_Yes', 'delayed healing_Yes', 'partial paresis_Yes',\n",
    "       'muscle stiffness_Yes', 'Alopecia_Yes', 'Obesity_Yes'])\n"
   ]
  },
  {
   "cell_type": "code",
   "execution_count": 101,
   "id": "03ac2c5d",
   "metadata": {},
   "outputs": [
    {
     "data": {
      "text/html": [
       "<div>\n",
       "<style scoped>\n",
       "    .dataframe tbody tr th:only-of-type {\n",
       "        vertical-align: middle;\n",
       "    }\n",
       "\n",
       "    .dataframe tbody tr th {\n",
       "        vertical-align: top;\n",
       "    }\n",
       "\n",
       "    .dataframe thead th {\n",
       "        text-align: right;\n",
       "    }\n",
       "</style>\n",
       "<table border=\"1\" class=\"dataframe\">\n",
       "  <thead>\n",
       "    <tr style=\"text-align: right;\">\n",
       "      <th></th>\n",
       "      <th>Age</th>\n",
       "      <th>Gender_Male</th>\n",
       "      <th>Polyuria_Yes</th>\n",
       "      <th>Polydipsia_Yes</th>\n",
       "      <th>sudden weight loss_Yes</th>\n",
       "      <th>weakness_Yes</th>\n",
       "      <th>Polyphagia_Yes</th>\n",
       "      <th>Genital thrush_Yes</th>\n",
       "      <th>visual blurring_Yes</th>\n",
       "      <th>Itching_Yes</th>\n",
       "      <th>Irritability_Yes</th>\n",
       "      <th>delayed healing_Yes</th>\n",
       "      <th>partial paresis_Yes</th>\n",
       "      <th>muscle stiffness_Yes</th>\n",
       "      <th>Alopecia_Yes</th>\n",
       "      <th>Obesity_Yes</th>\n",
       "    </tr>\n",
       "  </thead>\n",
       "  <tbody>\n",
       "    <tr>\n",
       "      <th>0</th>\n",
       "      <td>14</td>\n",
       "      <td>0</td>\n",
       "      <td>1</td>\n",
       "      <td>1</td>\n",
       "      <td>0</td>\n",
       "      <td>0</td>\n",
       "      <td>1</td>\n",
       "      <td>0</td>\n",
       "      <td>0</td>\n",
       "      <td>0</td>\n",
       "      <td>0</td>\n",
       "      <td>1</td>\n",
       "      <td>0</td>\n",
       "      <td>0</td>\n",
       "      <td>0</td>\n",
       "      <td>0</td>\n",
       "    </tr>\n",
       "  </tbody>\n",
       "</table>\n",
       "</div>"
      ],
      "text/plain": [
       "   Age  Gender_Male  Polyuria_Yes  Polydipsia_Yes  sudden weight loss_Yes  \\\n",
       "0   14            0             1               1                       0   \n",
       "\n",
       "   weakness_Yes  Polyphagia_Yes  Genital thrush_Yes  visual blurring_Yes  \\\n",
       "0             0               1                   0                    0   \n",
       "\n",
       "   Itching_Yes  Irritability_Yes  delayed healing_Yes  partial paresis_Yes  \\\n",
       "0            0                 0                    1                    0   \n",
       "\n",
       "   muscle stiffness_Yes  Alopecia_Yes  Obesity_Yes  \n",
       "0                     0             0            0  "
      ]
     },
     "execution_count": 101,
     "metadata": {},
     "output_type": "execute_result"
    }
   ],
   "source": [
    "input_data['Age'] = input_data['Age'].astype(int)\n",
    "input_data=input_data.applymap(lambda s:s.lower() if type(s) == str else s)\n",
    "input_data=input_data.replace(('male','female','no','yes'),(1,0,0,1))\n",
    "input_data.astype(float)\n",
    "input_data"
   ]
  },
  {
   "cell_type": "code",
   "execution_count": 104,
   "id": "59e5c25f",
   "metadata": {},
   "outputs": [
    {
     "name": "stdout",
     "output_type": "stream",
     "text": [
      "1\n"
     ]
    }
   ],
   "source": [
    "predict2=lnr.predict(input_data)[0]\n",
    "print(predict2)"
   ]
  },
  {
   "cell_type": "code",
   "execution_count": 106,
   "id": "30cb46d0",
   "metadata": {},
   "outputs": [
    {
     "data": {
      "text/plain": [
       "array([0.00117634, 0.99882366])"
      ]
     },
     "execution_count": 106,
     "metadata": {},
     "output_type": "execute_result"
    }
   ],
   "source": [
    "lnr.predict_proba(input_data)[0]"
   ]
  }
 ],
 "metadata": {
  "kernelspec": {
   "display_name": "Python 3 (ipykernel)",
   "language": "python",
   "name": "python3"
  },
  "language_info": {
   "codemirror_mode": {
    "name": "ipython",
    "version": 3
   },
   "file_extension": ".py",
   "mimetype": "text/x-python",
   "name": "python",
   "nbconvert_exporter": "python",
   "pygments_lexer": "ipython3",
   "version": "3.10.0"
  }
 },
 "nbformat": 4,
 "nbformat_minor": 5
}
